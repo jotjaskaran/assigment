{
 "cells": [
  {
   "cell_type": "markdown",
   "id": "08ffb17e-9ac7-4a22-8a2e-c6f91a1866fe",
   "metadata": {},
   "source": [
    "ASSIGNMENT\n",
    "TOPIC:- PYTHON BASIC VARIABLE"
   ]
  },
  {
   "cell_type": "code",
   "execution_count": 11,
   "id": "f2c5f490-0a3d-45cb-91d4-f622d12ac676",
   "metadata": {
    "tags": []
   },
   "outputs": [
    {
     "name": "stdout",
     "output_type": "stream",
     "text": [
      "the swap values of x & y is 4 2\n"
     ]
    }
   ],
   "source": [
    "## 1\n",
    "x=2\n",
    "y=4\n",
    "x,y=y,x\n",
    "print(\"the swap values of x & y is\",x,y)"
   ]
  },
  {
   "cell_type": "code",
   "execution_count": 7,
   "id": "0b84669c-a57e-4aea-98b2-1ddc988a63c9",
   "metadata": {},
   "outputs": [
    {
     "name": "stdin",
     "output_type": "stream",
     "text": [
      "enter the length of rectangle 5\n",
      "enter the width f rectangle 5\n"
     ]
    },
    {
     "name": "stdout",
     "output_type": "stream",
     "text": [
      "area of rectangle is 25\n"
     ]
    }
   ],
   "source": [
    "## 2\n",
    "l=int(input(\"enter the length of rectangle\"))\n",
    "w=int(input(\"enter the width f rectangle\" ))\n",
    "area=l*w\n",
    "print(\"area of rectangle is\",area)"
   ]
  },
  {
   "cell_type": "code",
   "execution_count": 8,
   "id": "d3294ace-4f55-47c3-a273-fc862445a357",
   "metadata": {},
   "outputs": [
    {
     "name": "stdin",
     "output_type": "stream",
     "text": [
      "enter the temperature in degree celsius 58\n"
     ]
    },
    {
     "name": "stdout",
     "output_type": "stream",
     "text": [
      "the temperature in degree fahrenheit is 136.4\n"
     ]
    }
   ],
   "source": [
    "## 3\n",
    "celsius=int(input(\"enter the temperature in degree celsius\"))\n",
    "fahrenheit=(9/5 * celsius)+32\n",
    "print(\"the temperature in degree fahrenheit is\",fahrenheit)"
   ]
  },
  {
   "cell_type": "markdown",
   "id": "359b94b4-df8e-496b-a5c4-13d7faa98098",
   "metadata": {},
   "source": [
    "STRING BASED QUESTION\n"
   ]
  },
  {
   "cell_type": "code",
   "execution_count": 9,
   "id": "c5ba1ef7-8015-4778-a824-743450cffef9",
   "metadata": {},
   "outputs": [
    {
     "name": "stdin",
     "output_type": "stream",
     "text": [
      "enter the string pwskills\n"
     ]
    },
    {
     "name": "stdout",
     "output_type": "stream",
     "text": [
      "The length of string is 8\n"
     ]
    }
   ],
   "source": [
    "##1\n",
    "a=str(input(\"enter the string\"))\n",
    "b=len(a)\n",
    "print(\"The length of string is\",b)"
   ]
  },
  {
   "cell_type": "code",
   "execution_count": 11,
   "id": "fbb621dc-1d2e-4e35-a492-be9de0937874",
   "metadata": {},
   "outputs": [
    {
     "name": "stdin",
     "output_type": "stream",
     "text": [
      "enter the string hello india\n"
     ]
    },
    {
     "name": "stdout",
     "output_type": "stream",
     "text": [
      "no. of vowels are\n",
      "5\n"
     ]
    }
   ],
   "source": [
    "##2\n",
    "str=input(\"enter the string\")\n",
    "vowels=0\n",
    "for i in str:\n",
    "    if (i=='a' or i=='e' or i=='o' or i=='u' or i=='i' or i=='A' or i=='E' or i=='O' or i=='U' or i=='I'):\n",
    "        vowels=vowels+1\n",
    "print(\"no. of vowels are\")\n",
    "print(vowels)"
   ]
  },
  {
   "cell_type": "code",
   "execution_count": 4,
   "id": "69e45cf4-654c-430e-8858-c74bb4d1dd2b",
   "metadata": {},
   "outputs": [
    {
     "name": "stdout",
     "output_type": "stream",
     "text": [
      "naraksaj\n"
     ]
    }
   ],
   "source": [
    "##3\n",
    "str=\"jaskaran\"\n",
    "a=str[::-1]\n",
    "print(a)"
   ]
  },
  {
   "cell_type": "code",
   "execution_count": 13,
   "id": "035379ca-0e3d-4ad1-bd72-6f4082bd3009",
   "metadata": {},
   "outputs": [
    {
     "name": "stdin",
     "output_type": "stream",
     "text": [
      "enter the string kak\n"
     ]
    },
    {
     "name": "stdout",
     "output_type": "stream",
     "text": [
      "string is palindrome\n"
     ]
    }
   ],
   "source": [
    "##4\n",
    "s=input(\"enter the string\")\n",
    "s1=s[::-1]\n",
    "if s==s1:\n",
    "    print(\"string is palindrome\")\n",
    "else:\n",
    "    print(\"string is not palindrome\")"
   ]
  },
  {
   "cell_type": "code",
   "execution_count": 5,
   "id": "f7e80463-991a-425b-aebf-1996418fa7d0",
   "metadata": {},
   "outputs": [
    {
     "name": "stdin",
     "output_type": "stream",
     "text": [
      "enter the string     jaskaran     \n"
     ]
    },
    {
     "name": "stdout",
     "output_type": "stream",
     "text": [
      "jaskaran\n"
     ]
    }
   ],
   "source": [
    "##5\n",
    "str=(input(\"enter the string\"))\n",
    "modifiedstr=str.strip()\n",
    "print(modifiedstr)\n"
   ]
  }
 ],
 "metadata": {
  "kernelspec": {
   "display_name": "Python 3 (ipykernel)",
   "language": "python",
   "name": "python3"
  },
  "language_info": {
   "codemirror_mode": {
    "name": "ipython",
    "version": 3
   },
   "file_extension": ".py",
   "mimetype": "text/x-python",
   "name": "python",
   "nbconvert_exporter": "python",
   "pygments_lexer": "ipython3",
   "version": "3.10.8"
  }
 },
 "nbformat": 4,
 "nbformat_minor": 5
}
